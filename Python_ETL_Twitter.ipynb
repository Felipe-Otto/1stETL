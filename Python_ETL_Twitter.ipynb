{
  "nbformat": 4,
  "nbformat_minor": 0,
  "metadata": {
    "colab": {
      "provenance": [],
      "authorship_tag": "ABX9TyNuRJM6Fjh/a1yYm/FbQNqq",
      "include_colab_link": true
    },
    "kernelspec": {
      "name": "python3",
      "display_name": "Python 3"
    },
    "language_info": {
      "name": "python"
    }
  },
  "cells": [
    {
      "cell_type": "markdown",
      "metadata": {
        "id": "view-in-github",
        "colab_type": "text"
      },
      "source": [
        "<a href=\"https://colab.research.google.com/github/Felipe-Otto/1stETL-Python/blob/main/Python_ETL_Twitter.ipynb\" target=\"_parent\"><img src=\"https://colab.research.google.com/assets/colab-badge.svg\" alt=\"Open In Colab\"/></a>"
      ]
    },
    {
      "cell_type": "markdown",
      "source": [
        "# Extracting Data"
      ],
      "metadata": {
        "id": "KrMdw_j8gNeB"
      }
    },
    {
      "cell_type": "code",
      "execution_count": null,
      "metadata": {
        "id": "wQBo21K9ydxd"
      },
      "outputs": [],
      "source": [
        "from datetime import datetime, timedelta\n",
        "import json\n",
        "import requests\n",
        "import os"
      ]
    },
    {
      "cell_type": "code",
      "source": [
        "TIMESTAMP = '%Y-%m-%dT%H:%M:%S.00Z'\n",
        "end_time = (datetime.now() + timedelta(-1)).date().strftime(TIMESTAMP)\n",
        "start_time = (datetime.now() + timedelta(-2)).date().strftime(TIMESTAMP)\n",
        "query = 'Data Engineer'"
      ],
      "metadata": {
        "id": "qfVHNyTYyyGM"
      },
      "execution_count": null,
      "outputs": []
    },
    {
      "cell_type": "code",
      "source": [
        "tweet_fields = 'tweet.fields=author_id,created_at,id,lang,text'\n",
        "user_fields = 'expansions=author_id&user.fields=id,name,username,created_at'"
      ],
      "metadata": {
        "id": "JKsi3nVC0vCI"
      },
      "execution_count": null,
      "outputs": []
    },
    {
      "cell_type": "code",
      "source": [
        "url_raw = f'https://api.twitter.com/2/tweets/search/recent?query={query}&{tweet_fields}&{user_fields}&start_time={start_time}&end_time={end_time}'"
      ],
      "metadata": {
        "id": "4dONVjB81f3a"
      },
      "execution_count": null,
      "outputs": []
    },
    {
      "cell_type": "code",
      "source": [
        "os.environ['BEARER_TOKEN'] = # Insert your Twitter Dev Bearer Key"
      ],
      "metadata": {
        "id": "1niw_H4Z2yvN"
      },
      "execution_count": null,
      "outputs": []
    },
    {
      "cell_type": "markdown",
      "source": [
        "Creating a .txt and .json File"
      ],
      "metadata": {
        "id": "AEX8Q1V45pTb"
      }
    },
    {
      "cell_type": "code",
      "source": [
        "fileName = f'collectedTweets{datetime.now().strftime(\"%Y-%m-%d-%H-%M-%S\")}.txt'\n",
        "outTxt = open(fileName, 'w')\n",
        "fileName = fileName.replace('.txt', '.json')\n",
        "outJson = open(fileName, 'w')"
      ],
      "metadata": {
        "id": "8ZA1CG8c5zb2"
      },
      "execution_count": null,
      "outputs": []
    },
    {
      "cell_type": "markdown",
      "source": [
        "Constructing Headers"
      ],
      "metadata": {
        "id": "aLe60ZjYGZVY"
      }
    },
    {
      "cell_type": "code",
      "source": [
        "bearer_token = os.environ.get(\"BEARER_TOKEN\")"
      ],
      "metadata": {
        "id": "360alYNm2X2o"
      },
      "execution_count": null,
      "outputs": []
    },
    {
      "cell_type": "code",
      "source": [
        "headers = {'Authorization': f'Bearer {bearer_token}'}\n",
        "response = requests.request('GET', url_raw, headers=headers)"
      ],
      "metadata": {
        "id": "UF7CD1rx2NB0"
      },
      "execution_count": null,
      "outputs": []
    },
    {
      "cell_type": "markdown",
      "source": [
        "Storing data"
      ],
      "metadata": {
        "id": "CUFErd3lHB9U"
      }
    },
    {
      "cell_type": "code",
      "source": [
        "json_response = response.json()\n",
        "outTxt.write(f'{json.dumps(json_response)}\\n')\n",
        "outJson.write(f'{json.dumps(json_response, indent=4, sort_keys=True)}\\n')"
      ],
      "metadata": {
        "id": "o3-UimJ54omg"
      },
      "execution_count": null,
      "outputs": []
    },
    {
      "cell_type": "code",
      "source": [
        "while 'next_token' in json_response.get('meta', {}):\n",
        "    next_token = json_response['meta']['next_token']\n",
        "    url = f'{url_raw}&next_token={next_token}'\n",
        "    response = requests.request('GET', url, headers=headers)\n",
        "    json_response = response.json()\n",
        "    outTxt.write(f'{json.dumps(json_response)}\\n')\n",
        "    outJson.write(f'{json.dumps(json_response, indent=4, sort_keys=True)}\\n')"
      ],
      "metadata": {
        "id": "-2z3FMLy9Rl_"
      },
      "execution_count": null,
      "outputs": []
    }
  ]
}